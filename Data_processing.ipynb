{
 "cells": [
  {
   "cell_type": "code",
   "execution_count": 100,
   "metadata": {},
   "outputs": [],
   "source": [
    "# Librairies\n",
    "import re\n",
    "import pandas as pd\n",
    "import ast \n",
    "import html\n",
    "\n",
    "\n",
    "import os\n",
    "import json\n",
    "from tqdm import tqdm\n",
    "\n",
    "# Path\n",
    "path = \"./fiscal_data/\"\n",
    "new_path = \"./fiscal_data_process_20232024/\"\n"
   ]
  },
  {
   "cell_type": "markdown",
   "metadata": {},
   "source": [
    "### Fonctions génériques"
   ]
  },
  {
   "cell_type": "code",
   "execution_count": 63,
   "metadata": {},
   "outputs": [],
   "source": [
    "def clean_html_column(df, column):\n",
    "    \"\"\"\n",
    "    Nettoie les balises HTML des éléments d'une colonne d'un DataFrame.\n",
    "    Args:\n",
    "        df (pd.DataFrame): Le DataFrame à traiter.\n",
    "        column (str): Le nom de la colonne à nettoyer.\n",
    "    Returns:\n",
    "        pd.Series: La colonne nettoyée (balises HTML supprimées).\n",
    "    \"\"\"\n",
    "    def remove_html(text):\n",
    "        if isinstance(text, str):\n",
    "            # Supprime les balises HTML\n",
    "            return re.sub(r'<.*?>', '', text)\n",
    "        return text\n",
    "    return df[column].apply(remove_html)\n"
   ]
  },
  {
   "cell_type": "code",
   "execution_count": 101,
   "metadata": {},
   "outputs": [],
   "source": [
    "\n",
    "def clean_html_entities(df: pd.DataFrame, columns: list = None) -> pd.DataFrame:\n",
    "    \"\"\"\n",
    "    Nettoie les entités HTML numériques et textuelles dans les colonnes spécifiées d'un DataFrame.\n",
    "    - Décode les entités via html.unescape (ex: &#13; -> \\\\r, &amp; -> &).\n",
    "    - Supprime les retours chariot (\\r) et espaces multiples.\n",
    "\n",
    "    Args:\n",
    "        df (pd.DataFrame): DataFrame d'entrée.\n",
    "        columns (list, optional): Liste des colonnes à nettoyer. Par défaut, toutes les colonnes.\n",
    "\n",
    "    Returns:\n",
    "        pd.DataFrame: DataFrame nettoyé.\n",
    "    \"\"\"\n",
    "    df_clean = df.copy()\n",
    "    # Si pas de colonnes spécifiées, on cible toutes les colonnes de type object\n",
    "    if columns is None:\n",
    "        columns = df_clean.select_dtypes(include=['object']).columns.tolist()\n",
    "    \n",
    "    for col in columns:\n",
    "        # Convertir en str, décoder puis nettoyer les retours chariot et espaces multiples\n",
    "        df_clean[col] = (\n",
    "            df_clean[col]\n",
    "            .astype(str)\n",
    "            .apply(lambda x: html.unescape(x))  # décodage des entités\n",
    "            .str.replace('\\r', ' ', regex=False)  # suppression des retours chariot\n",
    "            .str.replace('\\n', ' ', regex=False)  # suppression des sauts de ligne\n",
    "            .str.replace(r'\\s+', ' ', regex=True)  # unification des espaces\n",
    "            .str.strip()\n",
    "        )\n",
    "    return df_clean"
   ]
  },
  {
   "cell_type": "markdown",
   "metadata": {},
   "source": [
    "## I) BOFIP"
   ]
  },
  {
   "cell_type": "code",
   "execution_count": 110,
   "metadata": {},
   "outputs": [],
   "source": [
    "df_bofip = pd.read_csv(path + \"bofip.csv\")"
   ]
  },
  {
   "cell_type": "code",
   "execution_count": 111,
   "metadata": {},
   "outputs": [
    {
     "data": {
      "text/html": [
       "<div>\n",
       "<style scoped>\n",
       "    .dataframe tbody tr th:only-of-type {\n",
       "        vertical-align: middle;\n",
       "    }\n",
       "\n",
       "    .dataframe tbody tr th {\n",
       "        vertical-align: top;\n",
       "    }\n",
       "\n",
       "    .dataframe thead th {\n",
       "        text-align: right;\n",
       "    }\n",
       "</style>\n",
       "<table border=\"1\" class=\"dataframe\">\n",
       "  <thead>\n",
       "    <tr style=\"text-align: right;\">\n",
       "      <th></th>\n",
       "      <th>division</th>\n",
       "      <th>contenu</th>\n",
       "      <th>contenu_html</th>\n",
       "      <th>debut_de_validite</th>\n",
       "      <th>serie</th>\n",
       "      <th>permalien</th>\n",
       "      <th>identifiant_juridique</th>\n",
       "      <th>type</th>\n",
       "      <th>titre</th>\n",
       "    </tr>\n",
       "  </thead>\n",
       "  <tbody>\n",
       "    <tr>\n",
       "      <th>0</th>\n",
       "      <td>RFPI</td>\n",
       "      <td>L'exemple exprimé dans ce document est retiré ...</td>\n",
       "      <td>&lt;p class=\"\"paragraphe-western\"\" id=\"\"Les_exemp...</td>\n",
       "      <td>2015-03-12</td>\n",
       "      <td>RFPI</td>\n",
       "      <td>https://bofip.impots.gouv.fr/bofip/2140-PGP.ht...</td>\n",
       "      <td>BOI-ANNX-000414</td>\n",
       "      <td>Contenu</td>\n",
       "      <td>ANNEXE - RFPI - Exemple de calcul de la déduct...</td>\n",
       "    </tr>\n",
       "  </tbody>\n",
       "</table>\n",
       "</div>"
      ],
      "text/plain": [
       "  division                                            contenu  \\\n",
       "0     RFPI  L'exemple exprimé dans ce document est retiré ...   \n",
       "\n",
       "                                        contenu_html debut_de_validite serie  \\\n",
       "0  <p class=\"\"paragraphe-western\"\" id=\"\"Les_exemp...        2015-03-12  RFPI   \n",
       "\n",
       "                                           permalien identifiant_juridique  \\\n",
       "0  https://bofip.impots.gouv.fr/bofip/2140-PGP.ht...       BOI-ANNX-000414   \n",
       "\n",
       "      type                                              titre  \n",
       "0  Contenu  ANNEXE - RFPI - Exemple de calcul de la déduct...  "
      ]
     },
     "execution_count": 111,
     "metadata": {},
     "output_type": "execute_result"
    }
   ],
   "source": [
    "df_bofip.head(1)"
   ]
  },
  {
   "cell_type": "code",
   "execution_count": 112,
   "metadata": {},
   "outputs": [],
   "source": [
    "# Filtre sur 2023-2024\n",
    "\n",
    "df_bofip[\"debut_de_validite\"] = pd.to_datetime(df_bofip.debut_de_validite, format=\"%Y-%m-%d\")\n",
    "df_bofip = df_bofip[df_bofip.debut_de_validite.dt.year.isin((2023,2024))]"
   ]
  },
  {
   "cell_type": "code",
   "execution_count": 113,
   "metadata": {},
   "outputs": [],
   "source": [
    "df_bofip = clean_html_entities(df_bofip,['contenu'])"
   ]
  },
  {
   "cell_type": "code",
   "execution_count": 114,
   "metadata": {},
   "outputs": [],
   "source": [
    "df_bofip.to_csv(new_path+'Bofip_2023_2024.csv',index=False,sep=\";\")"
   ]
  },
  {
   "cell_type": "markdown",
   "metadata": {},
   "source": [
    "## II) CGI"
   ]
  },
  {
   "cell_type": "code",
   "execution_count": 54,
   "metadata": {},
   "outputs": [],
   "source": [
    "cgi_2023 = pd.read_csv(path + 'cgi_2023.csv')\n",
    "cgi_2024 = pd.read_csv(path + 'cgi_2024.csv')"
   ]
  },
  {
   "cell_type": "code",
   "execution_count": 55,
   "metadata": {},
   "outputs": [],
   "source": [
    "\n",
    "def process_cgi_articles(cgi_df):\n",
    "    \"\"\"\n",
    "    Process CGI articles from a dataframe containing sections.\n",
    "    \n",
    "    Args:\n",
    "        cgi_df (pd.DataFrame): DataFrame containing CGI sections\n",
    "        \n",
    "    Returns:\n",
    "        pd.DataFrame: DataFrame containing all extracted articles\n",
    "    \"\"\"\n",
    "    def extract_articles(sections_list, parent_title=None):\n",
    "        if not sections_list:\n",
    "            return []\n",
    "        \n",
    "        result = []\n",
    "        for section in sections_list:\n",
    "            # Si la section contient des articles, les ajouter\n",
    "            if 'articles' in section and section['articles']:\n",
    "                for article in section['articles']:\n",
    "                    article_entry = {\n",
    "                        'id': article['id'],\n",
    "                        'num': article['num'],\n",
    "                        'etat': article['etat'],\n",
    "                        'content': article['content'],\n",
    "                        'pathTitle': article['pathTitle'],\n",
    "                        'executionTime': article.get('executionTime'),\n",
    "                        'dereferenced': article.get('dereferenced'),\n",
    "                        'cid': article.get('cid'),\n",
    "                        'intOrdre': article.get('intOrdre'),\n",
    "                        'section_title': section['title'],\n",
    "                        'parent_title': parent_title\n",
    "                    }\n",
    "                    result.append(article_entry)\n",
    "            \n",
    "            # Récursivement chercher dans les sous-sections\n",
    "            if 'sections' in section and section['sections']:\n",
    "                subsections = extract_articles(section['sections'], section['title'])\n",
    "                result.extend(subsections)\n",
    "        \n",
    "        return result\n",
    "\n",
    "    # Appliquer la fonction à chaque ligne du dataframe\n",
    "    all_articles = []\n",
    "    for sections in cgi_df['sections']:\n",
    "        sections_list = ast.literal_eval(sections) if isinstance(sections, str) else sections\n",
    "        articles_data = extract_articles(sections_list)\n",
    "        all_articles.extend(articles_data)\n",
    "\n",
    "    # Créer un nouveau dataframe avec tous les articles\n",
    "    return pd.DataFrame(all_articles)\n",
    "\n",
    "df_cgi2023 = process_cgi_articles(cgi_2023)\n",
    "df_cgi2024 = process_cgi_articles(cgi_2024)\n",
    "\n"
   ]
  },
  {
   "cell_type": "code",
   "execution_count": 57,
   "metadata": {},
   "outputs": [],
   "source": [
    "df_cgi2023_2024 = pd.concat([df_cgi2023,df_cgi2024])"
   ]
  },
  {
   "cell_type": "code",
   "execution_count": null,
   "metadata": {},
   "outputs": [],
   "source": [
    "df_cgi2023_2024['content'] = clean_html_column(df_cgi2023_2024, 'content')"
   ]
  },
  {
   "cell_type": "code",
   "execution_count": null,
   "metadata": {},
   "outputs": [],
   "source": [
    "df_cgi2023_2024.to_csv(new_path+'CGI_2023_2024.csv',index=False,sep=\";\")"
   ]
  },
  {
   "cell_type": "markdown",
   "metadata": {},
   "source": [
    "## III) Jurisprudence"
   ]
  },
  {
   "cell_type": "code",
   "execution_count": 71,
   "metadata": {},
   "outputs": [
    {
     "name": "stderr",
     "output_type": "stream",
     "text": [
      "/var/folders/p3/_m5cx42n4bzg7rgn2xc3p0s80000gn/T/ipykernel_76052/2971875856.py:1: DtypeWarning: Columns (4) have mixed types. Specify dtype option on import or set low_memory=False.\n",
      "  df_juri = pd.read_csv('./fiscal_data/jurisprudence_global.csv')\n"
     ]
    }
   ],
   "source": [
    "df_juri = pd.read_csv('./fiscal_data/jurisprudence_global.csv')"
   ]
  },
  {
   "cell_type": "code",
   "execution_count": 72,
   "metadata": {},
   "outputs": [
    {
     "data": {
      "text/plain": [
       "(485952, 15)"
      ]
     },
     "execution_count": 72,
     "metadata": {},
     "output_type": "execute_result"
    }
   ],
   "source": [
    "df_juri.shape"
   ]
  },
  {
   "cell_type": "code",
   "execution_count": 73,
   "metadata": {},
   "outputs": [],
   "source": [
    "# Motifs à chercher\n",
    "mots_cles = [\n",
    "    \"code général des impôts\",\n",
    "    r\"\\bcgi\\b\",        # \\b pour mot entier\n",
    "    r\"\\blpf\\b\",\n",
    "    \"livre des procédures fiscales\"\n",
    "]\n",
    "# On \"échappe\" proprement et on joint par |\n",
    "motif = re.compile(\n",
    "    \"|\".join(re.escape(m) for m in mots_cles),\n",
    "    flags=re.IGNORECASE\n",
    ")\n",
    "\n",
    "# Filtrage vectorisé avec un seul appel\n",
    "df_juri_filter = df_juri[\n",
    "    df_juri[\"texte_integral\"].str.contains(motif, na=False)\n",
    "]"
   ]
  },
  {
   "cell_type": "code",
   "execution_count": 74,
   "metadata": {},
   "outputs": [
    {
     "data": {
      "text/plain": [
       "(25758, 15)"
      ]
     },
     "execution_count": 74,
     "metadata": {},
     "output_type": "execute_result"
    }
   ],
   "source": [
    "df_juri_filter.shape"
   ]
  },
  {
   "cell_type": "code",
   "execution_count": 76,
   "metadata": {},
   "outputs": [],
   "source": [
    "df_juri_filter.to_csv(new_path+'Juris_filter_2023_2024.csv',index=False,sep=\";\")"
   ]
  },
  {
   "cell_type": "markdown",
   "metadata": {},
   "source": [
    "## IV) Livre des procédures fiscales (LPF)"
   ]
  },
  {
   "cell_type": "code",
   "execution_count": 77,
   "metadata": {},
   "outputs": [],
   "source": [
    "lpf2023 = pd.read_csv(path + 'lpf_2023.csv')\n",
    "lpf2024 = pd.read_csv(path + 'lpf_2024.csv')"
   ]
  },
  {
   "cell_type": "code",
   "execution_count": 78,
   "metadata": {},
   "outputs": [],
   "source": [
    "df_lpf2023 = process_cgi_articles(lpf2023)\n",
    "df_lpf2024 = process_cgi_articles(lpf2024)"
   ]
  },
  {
   "cell_type": "code",
   "execution_count": 79,
   "metadata": {},
   "outputs": [],
   "source": [
    "df_lpf = pd.concat([df_lpf2023,df_lpf2024])"
   ]
  },
  {
   "cell_type": "code",
   "execution_count": 82,
   "metadata": {},
   "outputs": [],
   "source": [
    "df_lpf['content'] = clean_html_column(df_lpf, 'content')"
   ]
  },
  {
   "cell_type": "code",
   "execution_count": 84,
   "metadata": {},
   "outputs": [],
   "source": [
    "df_lpf.to_csv(new_path+'LPF_2023_2024.csv',index=False,sep=\";\")"
   ]
  },
  {
   "cell_type": "markdown",
   "metadata": {},
   "source": [
    "## V) Question_reponse AN"
   ]
  },
  {
   "cell_type": "markdown",
   "metadata": {},
   "source": [
    "La donnée se décompose en Question puis en réponse"
   ]
  },
  {
   "cell_type": "code",
   "execution_count": 86,
   "metadata": {},
   "outputs": [],
   "source": [
    "# Reponse\n",
    "a_an_2023 = pd.read_csv('./fiscal_data/questions_reponses_AN_2023.csv')\n",
    "a_an_2024 = pd.read_csv('./fiscal_data/questions_reponses_AN_2024.csv')"
   ]
  },
  {
   "cell_type": "code",
   "execution_count": 87,
   "metadata": {},
   "outputs": [
    {
     "data": {
      "text/html": [
       "<div>\n",
       "<style scoped>\n",
       "    .dataframe tbody tr th:only-of-type {\n",
       "        vertical-align: middle;\n",
       "    }\n",
       "\n",
       "    .dataframe tbody tr th {\n",
       "        vertical-align: top;\n",
       "    }\n",
       "\n",
       "    .dataframe thead th {\n",
       "        text-align: right;\n",
       "    }\n",
       "</style>\n",
       "<table border=\"1\" class=\"dataframe\">\n",
       "  <thead>\n",
       "    <tr style=\"text-align: right;\">\n",
       "      <th></th>\n",
       "      <th>numero_jo</th>\n",
       "      <th>date_publication</th>\n",
       "      <th>question_numero</th>\n",
       "      <th>question_page</th>\n",
       "      <th>reponse_page</th>\n",
       "      <th>reponse_texte</th>\n",
       "    </tr>\n",
       "  </thead>\n",
       "  <tbody>\n",
       "    <tr>\n",
       "      <th>0</th>\n",
       "      <td>20230001</td>\n",
       "      <td>03/01/2023</td>\n",
       "      <td>922</td>\n",
       "      <td>50</td>\n",
       "      <td>50</td>\n",
       "      <td>Aux termes de l'article 832 du code civil, l'a...</td>\n",
       "    </tr>\n",
       "    <tr>\n",
       "      <th>1</th>\n",
       "      <td>20230001</td>\n",
       "      <td>03/01/2023</td>\n",
       "      <td>988</td>\n",
       "      <td>50</td>\n",
       "      <td>51</td>\n",
       "      <td>L'agriculture est l'un des secteurs particuliè...</td>\n",
       "    </tr>\n",
       "    <tr>\n",
       "      <th>2</th>\n",
       "      <td>20230001</td>\n",
       "      <td>03/01/2023</td>\n",
       "      <td>994</td>\n",
       "      <td>51</td>\n",
       "      <td>51</td>\n",
       "      <td>La loi n° 99-5 du 6 janvier 1999 modifiée rela...</td>\n",
       "    </tr>\n",
       "    <tr>\n",
       "      <th>3</th>\n",
       "      <td>20230001</td>\n",
       "      <td>03/01/2023</td>\n",
       "      <td>1497</td>\n",
       "      <td>52</td>\n",
       "      <td>52</td>\n",
       "      <td>La lutte contre les salmonelles dans les éleva...</td>\n",
       "    </tr>\n",
       "    <tr>\n",
       "      <th>4</th>\n",
       "      <td>20230001</td>\n",
       "      <td>03/01/2023</td>\n",
       "      <td>1691</td>\n",
       "      <td>53</td>\n",
       "      <td>54</td>\n",
       "      <td>La loi n° 99-5 du 6 janvier 1999 modifiée rela...</td>\n",
       "    </tr>\n",
       "  </tbody>\n",
       "</table>\n",
       "</div>"
      ],
      "text/plain": [
       "   numero_jo date_publication  question_numero  question_page  reponse_page  \\\n",
       "0   20230001       03/01/2023              922             50            50   \n",
       "1   20230001       03/01/2023              988             50            51   \n",
       "2   20230001       03/01/2023              994             51            51   \n",
       "3   20230001       03/01/2023             1497             52            52   \n",
       "4   20230001       03/01/2023             1691             53            54   \n",
       "\n",
       "                                       reponse_texte  \n",
       "0  Aux termes de l'article 832 du code civil, l'a...  \n",
       "1  L'agriculture est l'un des secteurs particuliè...  \n",
       "2  La loi n° 99-5 du 6 janvier 1999 modifiée rela...  \n",
       "3  La lutte contre les salmonelles dans les éleva...  \n",
       "4  La loi n° 99-5 du 6 janvier 1999 modifiée rela...  "
      ]
     },
     "execution_count": 87,
     "metadata": {},
     "output_type": "execute_result"
    }
   ],
   "source": [
    "a_an = pd.concat([a_an_2023,a_an_2024])\n",
    "a_an.head()"
   ]
  },
  {
   "cell_type": "code",
   "execution_count": 88,
   "metadata": {},
   "outputs": [],
   "source": [
    "# Question\n",
    "\n",
    "\n",
    "\n",
    "def extract_info_from_json(data):\n",
    "    q = data.get(\"question\", {})\n",
    "\n",
    "    return {\n",
    "        \"uid\": q.get(\"uid\"),\n",
    "        \"numero\": q.get(\"identifiant\", {}).get(\"numero\"),\n",
    "        \"legislature\": q.get(\"identifiant\", {}).get(\"legislature\"),\n",
    "        \"type\": q.get(\"type\"),\n",
    "        \"rubrique\": q.get(\"indexationAN\", {}).get(\"rubrique\"),\n",
    "        \"analyse\": q.get(\"indexationAN\", {}).get(\"analyses\", {}).get(\"analyse\"),\n",
    "        \"auteur_groupe\": q.get(\"auteur\", {}).get(\"groupe\", {}).get(\"developpe\"),\n",
    "        \"ministere\": q.get(\"minInt\", {}).get(\"developpe\"),\n",
    "        \"date_question\": q.get(\"textesQuestion\", {}).get(\"texteQuestion\", {}).get(\"infoJO\", {}).get(\"dateJO\"),\n",
    "        \"texte_question\": q.get(\"textesQuestion\", {}).get(\"texteQuestion\", {}).get(\"texte\"),\n",
    "        \"date_reponse\": q.get(\"textesReponse\", {}).get(\"texteReponse\", {}).get(\"infoJO\", {}).get(\"dateJO\"),\n",
    "        \"texte_reponse\": q.get(\"textesReponse\", {}).get(\"texteReponse\", {}).get(\"texte\"),\n",
    "        \"cloture_code\": q.get(\"cloture\", {}).get(\"codeCloture\"),\n",
    "        \"cloture_date\": q.get(\"cloture\", {}).get(\"dateCloture\")\n",
    "    }\n",
    "\n",
    "def unify_jsons_to_dataframe(folder_path):\n",
    "    rows = []\n",
    "\n",
    "    for file_name in tqdm(os.listdir(folder_path)):\n",
    "        if not file_name.endswith(\".json\"):\n",
    "            continue\n",
    "        file_path = os.path.join(folder_path, file_name)\n",
    "        try:\n",
    "            with open(file_path, \"r\", encoding=\"utf-8\") as f:\n",
    "                content = json.load(f)\n",
    "                row = extract_info_from_json(content)\n",
    "                rows.append(row)\n",
    "        except Exception as e:\n",
    "            continue\n",
    "    df = pd.DataFrame(rows)\n",
    "    return df\n"
   ]
  },
  {
   "cell_type": "code",
   "execution_count": 22,
   "metadata": {},
   "outputs": [
    {
     "name": "stderr",
     "output_type": "stream",
     "text": [
      "100%|██████████| 18710/18710 [00:03<00:00, 5063.40it/s]\n"
     ]
    }
   ],
   "source": [
    "\n",
    "# Exemple d'utilisation\n",
    "folder = \"/Users/jordanchemouhoum/Downloads/Q_AN/\"\n",
    "df_questions = unify_jsons_to_dataframe(folder)"
   ]
  },
  {
   "cell_type": "code",
   "execution_count": 26,
   "metadata": {},
   "outputs": [
    {
     "data": {
      "text/html": [
       "<div>\n",
       "<style scoped>\n",
       "    .dataframe tbody tr th:only-of-type {\n",
       "        vertical-align: middle;\n",
       "    }\n",
       "\n",
       "    .dataframe tbody tr th {\n",
       "        vertical-align: top;\n",
       "    }\n",
       "\n",
       "    .dataframe thead th {\n",
       "        text-align: right;\n",
       "    }\n",
       "</style>\n",
       "<table border=\"1\" class=\"dataframe\">\n",
       "  <thead>\n",
       "    <tr style=\"text-align: right;\">\n",
       "      <th></th>\n",
       "      <th>uid</th>\n",
       "      <th>numero</th>\n",
       "      <th>legislature</th>\n",
       "      <th>type</th>\n",
       "      <th>rubrique</th>\n",
       "      <th>analyse</th>\n",
       "      <th>auteur_groupe</th>\n",
       "      <th>ministere</th>\n",
       "      <th>date_question</th>\n",
       "      <th>texte_question</th>\n",
       "      <th>date_reponse</th>\n",
       "      <th>texte_reponse</th>\n",
       "      <th>cloture_code</th>\n",
       "      <th>cloture_date</th>\n",
       "    </tr>\n",
       "  </thead>\n",
       "  <tbody>\n",
       "    <tr>\n",
       "      <th>0</th>\n",
       "      <td>QANR5L16QE6477</td>\n",
       "      <td>6477</td>\n",
       "      <td>16</td>\n",
       "      <td>QE</td>\n",
       "      <td>énergie et carburants</td>\n",
       "      <td>Potentiel de production d'énergies renouvelabl...</td>\n",
       "      <td>La France insoumise - Nouvelle Union Populaire...</td>\n",
       "      <td>Ministère auprès du ministre de la transition ...</td>\n",
       "      <td>2023-03-21</td>\n",
       "      <td>Mme Clémence Guetté attire l'attention de M. l...</td>\n",
       "      <td>2023-08-15</td>\n",
       "      <td>L'article 113 du projet de loi relatif à l'acc...</td>\n",
       "      <td>REP_PUB</td>\n",
       "      <td>2023-08-15</td>\n",
       "    </tr>\n",
       "  </tbody>\n",
       "</table>\n",
       "</div>"
      ],
      "text/plain": [
       "              uid numero legislature type               rubrique  \\\n",
       "0  QANR5L16QE6477   6477          16   QE  énergie et carburants   \n",
       "\n",
       "                                             analyse  \\\n",
       "0  Potentiel de production d'énergies renouvelabl...   \n",
       "\n",
       "                                       auteur_groupe  \\\n",
       "0  La France insoumise - Nouvelle Union Populaire...   \n",
       "\n",
       "                                           ministere date_question  \\\n",
       "0  Ministère auprès du ministre de la transition ...    2023-03-21   \n",
       "\n",
       "                                      texte_question date_reponse  \\\n",
       "0  Mme Clémence Guetté attire l'attention de M. l...   2023-08-15   \n",
       "\n",
       "                                       texte_reponse cloture_code cloture_date  \n",
       "0  L'article 113 du projet de loi relatif à l'acc...      REP_PUB   2023-08-15  "
      ]
     },
     "execution_count": 26,
     "metadata": {},
     "output_type": "execute_result"
    }
   ],
   "source": [
    "df_questions.head(1)"
   ]
  },
  {
   "cell_type": "code",
   "execution_count": 37,
   "metadata": {},
   "outputs": [],
   "source": [
    "# Fusion des sources\n",
    "df_questions['numero'] = df_questions.numero.astype(int)\n",
    "a_an['question_numero'] = a_an.question_numero.astype(int)\n",
    "a_an.drop_duplicates(subset=\"question_numero\",inplace=True)\n",
    "\n",
    "df_AN = df_questions.merge(a_an,\n",
    "                           how = 'left',\n",
    "                           left_on = 'numero',\n",
    "                           right_on=\"question_numero\",\n",
    "                           indicator = \"Merge\",\n",
    "                            validate = \"1:1\")"
   ]
  },
  {
   "cell_type": "code",
   "execution_count": 38,
   "metadata": {},
   "outputs": [
    {
     "data": {
      "text/plain": [
       "Merge\n",
       "both          10526\n",
       "left_only      1174\n",
       "right_only        0\n",
       "Name: count, dtype: int64"
      ]
     },
     "execution_count": 38,
     "metadata": {},
     "output_type": "execute_result"
    }
   ],
   "source": [
    "df_AN.Merge.value_counts()"
   ]
  },
  {
   "cell_type": "code",
   "execution_count": 39,
   "metadata": {},
   "outputs": [],
   "source": [
    "df_AN = df_AN[df_AN.Merge == 'both']"
   ]
  },
  {
   "cell_type": "code",
   "execution_count": 99,
   "metadata": {},
   "outputs": [],
   "source": [
    "df_AN.to_csv(new_path+'QA_AN_2023_2024.csv',sep=\";\",index=False)"
   ]
  },
  {
   "cell_type": "code",
   "execution_count": null,
   "metadata": {},
   "outputs": [],
   "source": []
  }
 ],
 "metadata": {
  "kernelspec": {
   "display_name": ".venv",
   "language": "python",
   "name": "python3"
  },
  "language_info": {
   "codemirror_mode": {
    "name": "ipython",
    "version": 3
   },
   "file_extension": ".py",
   "mimetype": "text/x-python",
   "name": "python",
   "nbconvert_exporter": "python",
   "pygments_lexer": "ipython3",
   "version": "3.13.2"
  }
 },
 "nbformat": 4,
 "nbformat_minor": 2
}
